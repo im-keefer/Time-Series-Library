{
  "cells": [
    {
      "cell_type": "markdown",
      "metadata": {
        "id": "BW0-akOj69OI"
      },
      "source": [
        "# Autoformer"
      ]
    },
    {
      "cell_type": "markdown",
      "metadata": {
        "id": "jT0gI3B6F4K2"
      },
      "source": [
        "## Environment Setup"
      ]
    },
    {
      "cell_type": "code",
      "execution_count": 5,
      "metadata": {
        "tags": [
          "parameters"
        ]
      },
      "outputs": [],
      "source": [
        "epochs = 1\n",
        "input_len = 50\n",
        "output_len = 50\n",
        "target = 'OPEN'\n",
        "data_file = 'EURUSD-short.txt'\n",
        "data = 'eurusd'\n",
        "name = 'EurUsd'"
      ]
    },
    {
      "cell_type": "markdown",
      "metadata": {
        "id": "oVIUVpZ3FCrh"
      },
      "source": [
        "### Mount Drive Data"
      ]
    },
    {
      "cell_type": "code",
      "execution_count": 6,
      "metadata": {
        "colab": {
          "base_uri": "https://localhost:8080/"
        },
        "id": "IHFRN5DzFErB",
        "outputId": "09515aaa-61ee-40eb-a628-0a5ded08073a"
      },
      "outputs": [
        {
          "name": "stdout",
          "output_type": "stream",
          "text": [
            "Google Colab environment not detected, running locally.\n"
          ]
        }
      ],
      "source": [
        "INSTALL_DEPENDENCIES = False\n",
        "USING_COLAB = False\n",
        "try:\n",
        "    from google.colab import drive\n",
        "    drive.mount('/content/drive')\n",
        "    USING_COLAB = True\n",
        "    INSTALL_DEPENDENCIES = True\n",
        "except ModuleNotFoundError:\n",
        "    print(\"Google Colab environment not detected, running locally.\")"
      ]
    },
    {
      "cell_type": "markdown",
      "metadata": {
        "id": "silDE2Qh7BkY"
      },
      "source": [
        "### Clone Time-Series-Library"
      ]
    },
    {
      "cell_type": "code",
      "execution_count": 7,
      "metadata": {
        "colab": {
          "base_uri": "https://localhost:8080/"
        },
        "id": "GTBWxlFk6Ksa",
        "outputId": "b05dbf75-618a-4c10-866f-0ec491ecd966"
      },
      "outputs": [],
      "source": [
        "if INSTALL_DEPENDENCIES:\n",
        "  if USING_COLAB:\n",
        "    %git clone -b google-colab --single-branch https://github.com/im-keefer/Time-Series-Library.git\n",
        "    %cd Time-Series-Library && pip install -r requirements_colab.txt\n",
        "  else:\n",
        "    %pip install -r requirements.txt"
      ]
    },
    {
      "cell_type": "markdown",
      "metadata": {
        "id": "r94GYuIQLcgE"
      },
      "source": [
        "## Running The Model"
      ]
    },
    {
      "cell_type": "code",
      "execution_count": 8,
      "metadata": {
        "colab": {
          "base_uri": "https://localhost:8080/"
        },
        "id": "Sc24K6VALmwc",
        "outputId": "e2dbdb28-ded3-4f4e-dd23-1aa2bd49dcdf"
      },
      "outputs": [
        {
          "name": "stdout",
          "output_type": "stream",
          "text": [
            "True\n",
            "Args in experiment:\n",
            "\u001b[1mBasic Config\u001b[0m\n",
            "  Task Name:          long_term_forecast  Is Training:        1                   \n",
            "  Model ID:           EurUsd_50_50        Model:              Autoformer          \n",
            "\n",
            "\u001b[1mData Loader\u001b[0m\n",
            "  Data:               eurusd              Root Path:          ./                  \n",
            "  Data Path:          EURUSD-short.txt    Features:           T                   \n",
            "  Target:             OPEN                Freq:               t                   \n",
            "  Checkpoints:        ./checkpoints/      \n",
            "\n",
            "\u001b[1mForecasting Task\u001b[0m\n",
            "  Seq Len:            50                  Label Len:          24                  \n",
            "  Pred Len:           50                  Seasonal Patterns:  Monthly             \n",
            "  Inverse:            1                   \n",
            "\n",
            "\u001b[1mModel Parameters\u001b[0m\n",
            "  Top k:              5                   Num Kernels:        6                   \n",
            "  Enc In:             1                   Dec In:             1                   \n",
            "  C Out:              1                   d model:            512                 \n",
            "  n heads:            8                   e layers:           2                   \n",
            "  d layers:           1                   d FF:               2048                \n",
            "  Moving Avg:         25                  Factor:             3                   \n",
            "  Distil:             1                   Dropout:            0.1                 \n",
            "  Embed:              fixed               Activation:         gelu                \n",
            "  Output Attention:   0                   \n",
            "\n",
            "\u001b[1mRun Parameters\u001b[0m\n",
            "  Num Workers:        10                  Itr:                1                   \n",
            "  Train Epochs:       1                   Batch Size:         128                 \n",
            "  Patience:           3                   Learning Rate:      0.0001              \n",
            "  Des:                'Exp'               Loss:               MSE                 \n",
            "  Lradj:              type1               Use Amp:            0                   \n",
            "\n",
            "\u001b[1mGPU\u001b[0m\n",
            "  Use GPU:            1                   GPU:                0                   \n",
            "  Use Multi GPU:      0                   Devices:            0,1,2,3             \n",
            "\n",
            "\u001b[1mDe-stationary Projector Params\u001b[0m\n",
            "  P Hidden Dims:      128, 128            P Hidden Layers:    2                   \n",
            "\n",
            "Use GPU: cuda:0\n",
            ">>>>>>>start training : long_term_forecast_EurUsd_50_50_Autoformer_eurusd_ftT_sl50_ll24_pl50_dm512_nh8_el2_dl1_df2048_expand2_dc4_fc3_ebfixed_dtTrue_'Exp'_0>>>>>>>>>>>>>>>>>>>>>>>>>>\n",
            "Unique Timestamps: 100000, Total Rows: 100000\n",
            "0    1706033220\n",
            "1    1706033280\n",
            "2    1706033340\n",
            "3    1706033400\n",
            "4    1706033460\n",
            "Name: date, dtype: int64\n",
            "Unique Timestamps: 100000, Total Rows: 100000\n",
            "train 69901\n",
            "Unique Timestamps: 100000, Total Rows: 100000\n",
            "0    1706033220\n",
            "1    1706033280\n",
            "2    1706033340\n",
            "3    1706033400\n",
            "4    1706033460\n",
            "Name: date, dtype: int64\n",
            "Unique Timestamps: 100000, Total Rows: 100000\n",
            "val 9951\n",
            "Unique Timestamps: 100000, Total Rows: 100000\n",
            "0    1706033220\n",
            "1    1706033280\n",
            "2    1706033340\n",
            "3    1706033400\n",
            "4    1706033460\n",
            "Name: date, dtype: int64\n",
            "Unique Timestamps: 100000, Total Rows: 100000\n",
            "test 19951\n",
            "\titers: 100, epoch: 1 | loss: 0.0884657\n",
            "\tspeed: 0.6980s/iter; left time: 312.0185s\n",
            "\titers: 200, epoch: 1 | loss: 0.0717657\n",
            "\tspeed: 0.1771s/iter; left time: 61.4650s\n",
            "\titers: 300, epoch: 1 | loss: 0.0712877\n",
            "\tspeed: 0.1772s/iter; left time: 43.7646s\n",
            "\titers: 400, epoch: 1 | loss: 0.0561782\n",
            "\tspeed: 0.1774s/iter; left time: 26.0821s\n",
            "\titers: 500, epoch: 1 | loss: 0.0577874\n",
            "\tspeed: 0.1772s/iter; left time: 8.3307s\n",
            "Epoch: 1 cost time: 149.45826411247253\n",
            "Epoch: 1, Steps: 546 | Train Loss: 0.1083640 Vali Loss: 0.0215539 Test Loss: 0.0161541\n",
            "Validation loss decreased (inf --> 0.021554).  Saving model ...\n",
            "Updating learning rate to 0.0001\n",
            ">>>>>>>testing : long_term_forecast_EurUsd_50_50_Autoformer_eurusd_ftT_sl50_ll24_pl50_dm512_nh8_el2_dl1_df2048_expand2_dc4_fc3_ebfixed_dtTrue_'Exp'_0<<<<<<<<<<<<<<<<<<<<<<<<<<<<<<<<<\n",
            "Unique Timestamps: 100000, Total Rows: 100000\n",
            "0    1706033220\n",
            "1    1706033280\n",
            "2    1706033340\n",
            "3    1706033400\n",
            "4    1706033460\n",
            "Name: date, dtype: int64\n",
            "Unique Timestamps: 100000, Total Rows: 100000\n",
            "test 19951\n",
            "test shape: (155, 128, 50, 1) (155, 128, 50, 1)\n",
            "test shape: (19840, 50, 1) (19840, 50, 1)\n",
            "mse:5.280061827761529e-07, mae:0.0005189508083276451, dtw:-999\n"
          ]
        }
      ],
      "source": [
        "if USING_COLAB:\n",
        "  !export CUDA_VISIBLE_DEVICES=7\n",
        "  !python -u ./Time-Series-Library/run.py \\\n",
        "    --task_name long_term_forecast \\\n",
        "    --is_training 1 \\\n",
        "    --root_path /content/drive/MyDrive/Trading/Data/ \\\n",
        "    --data_path $data_file \\\n",
        "    --model_id {name}_{input_len}_{output_len} \\\n",
        "    --model Autoformer \\\n",
        "    --data $data \\\n",
        "    --features T \\\n",
        "    --freq t \\\n",
        "    --train_epochs $epochs \\\n",
        "    --inverse \\\n",
        "    --target $target \\\n",
        "    --seq_len $input_len \\\n",
        "    --label_len 24 \\\n",
        "    --pred_len $output_len \\\n",
        "    --batch_size 64 \\\n",
        "    --e_layers 2 \\\n",
        "    --d_layers 1 \\\n",
        "    --factor 3 \\\n",
        "    --enc_in 8 \\\n",
        "    --dec_in 8 \\\n",
        "    --c_out 8 \\\n",
        "    --des 'Exp' \\\n",
        "    --itr 1\n",
        "else:\n",
        "  !python -u ./run.py \\\n",
        "    --task_name long_term_forecast \\\n",
        "    --is_training 1 \\\n",
        "    --root_path ./ \\\n",
        "    --data_path $data_file \\\n",
        "    --model_id {name}_{input_len}_{output_len} \\\n",
        "    --model Autoformer \\\n",
        "    --data $data \\\n",
        "    --features T \\\n",
        "    --freq t \\\n",
        "    --train_epochs $epochs \\\n",
        "    --inverse \\\n",
        "    --target $target \\\n",
        "    --seq_len $input_len \\\n",
        "    --label_len 24 \\\n",
        "    --pred_len $output_len \\\n",
        "    --batch_size 128 \\\n",
        "    --embed fixed \\\n",
        "    --e_layers 2 \\\n",
        "    --d_layers 1 \\\n",
        "    --factor 3 \\\n",
        "    --enc_in 1 \\\n",
        "    --dec_in 1 \\\n",
        "    --c_out 1 \\\n",
        "    --des 'Exp' \\\n",
        "    --itr 1"
      ]
    }
  ],
  "metadata": {
    "accelerator": "GPU",
    "colab": {
      "gpuType": "T4",
      "provenance": []
    },
    "kernelspec": {
      "display_name": "Python 3",
      "name": "python3"
    },
    "language_info": {
      "codemirror_mode": {
        "name": "ipython",
        "version": 3
      },
      "file_extension": ".py",
      "mimetype": "text/x-python",
      "name": "python",
      "nbconvert_exporter": "python",
      "pygments_lexer": "ipython3",
      "version": "3.12.0"
    }
  },
  "nbformat": 4,
  "nbformat_minor": 0
}
