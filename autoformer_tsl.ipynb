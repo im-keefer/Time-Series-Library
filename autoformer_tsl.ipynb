{
  "cells": [
    {
      "cell_type": "markdown",
      "metadata": {
        "id": "BW0-akOj69OI"
      },
      "source": [
        "# Autoformer"
      ]
    },
    {
      "cell_type": "markdown",
      "metadata": {
        "id": "jT0gI3B6F4K2"
      },
      "source": [
        "## Environment Setup"
      ]
    },
    {
      "cell_type": "code",
      "execution_count": 1,
      "metadata": {
        "tags": [
          "parameters"
        ]
      },
      "outputs": [],
      "source": [
        "epochs = 1\n",
        "patience = 3\n",
        "input_len = 50\n",
        "label_len = 25\n",
        "output_len = 50\n",
        "features = 'T'\n",
        "target = 'Open'\n",
        "loss = 'MSE'\n",
        "data_file = 'NASDAQ_2022_2023_BID_ACTIVE.csv'\n",
        "data = 'nasdaq'\n",
        "name = 'NASDAQ_FIXED'\n",
        "features_in = 1\n",
        "CUDA_DEBUG = True"
      ]
    },
    {
      "cell_type": "markdown",
      "metadata": {
        "id": "oVIUVpZ3FCrh"
      },
      "source": [
        "### Mount Drive Data"
      ]
    },
    {
      "cell_type": "code",
      "execution_count": 2,
      "metadata": {
        "colab": {
          "base_uri": "https://localhost:8080/"
        },
        "id": "IHFRN5DzFErB",
        "outputId": "09515aaa-61ee-40eb-a628-0a5ded08073a"
      },
      "outputs": [
        {
          "name": "stdout",
          "output_type": "stream",
          "text": [
            "Google Colab environment not detected, running locally.\n"
          ]
        }
      ],
      "source": [
        "INSTALL_DEPENDENCIES = False\n",
        "USING_COLAB = False\n",
        "try:\n",
        "    from google.colab import drive\n",
        "    drive.mount('/content/drive')\n",
        "    USING_COLAB = True\n",
        "    INSTALL_DEPENDENCIES = True\n",
        "except ModuleNotFoundError:\n",
        "    print(\"Google Colab environment not detected, running locally.\")"
      ]
    },
    {
      "cell_type": "markdown",
      "metadata": {
        "id": "silDE2Qh7BkY"
      },
      "source": [
        "### Clone Time-Series-Library"
      ]
    },
    {
      "cell_type": "code",
      "execution_count": 3,
      "metadata": {
        "colab": {
          "base_uri": "https://localhost:8080/"
        },
        "id": "GTBWxlFk6Ksa",
        "outputId": "b05dbf75-618a-4c10-866f-0ec491ecd966"
      },
      "outputs": [],
      "source": [
        "if INSTALL_DEPENDENCIES:\n",
        "  if USING_COLAB:\n",
        "    %git clone -b google-colab --single-branch https://github.com/im-keefer/Time-Series-Library.git\n",
        "    %cd Time-Series-Library && pip install -r requirements_colab.txt\n",
        "  else:\n",
        "    %pip install -r requirements.txt"
      ]
    },
    {
      "cell_type": "markdown",
      "metadata": {
        "id": "r94GYuIQLcgE"
      },
      "source": [
        "## Running The Model"
      ]
    },
    {
      "cell_type": "code",
      "execution_count": 4,
      "metadata": {},
      "outputs": [],
      "source": [
        "def format_time(seconds):\n",
        "\tmins, secs = divmod(seconds, 60)\n",
        "\thrs, mins = divmod(mins, 60)\n",
        "\treturn f\"{int(hrs):02d}:{int(mins):02d}:{int(secs):02d}\""
      ]
    },
    {
      "cell_type": "code",
      "execution_count": 5,
      "metadata": {},
      "outputs": [],
      "source": [
        "import os\n",
        "import time\n",
        "if CUDA_DEBUG:\n",
        "  os.environ['CUDA_LAUNCH_BLOCKING'] = '1'"
      ]
    },
    {
      "cell_type": "code",
      "execution_count": 6,
      "metadata": {
        "colab": {
          "base_uri": "https://localhost:8080/"
        },
        "id": "Sc24K6VALmwc",
        "outputId": "e2dbdb28-ded3-4f4e-dd23-1aa2bd49dcdf"
      },
      "outputs": [
        {
          "name": "stdout",
          "output_type": "stream",
          "text": [
            "True\n",
            "Args in experiment:\n",
            "\u001b[1mBasic Config\u001b[0m\n",
            "  Task Name:          long_term_forecast  Is Training:        1                   \n",
            "  Model ID:           NASDAQ_FIXED_50_50  Model:              Autoformer          \n",
            "\n",
            "\u001b[1mData Loader\u001b[0m\n",
            "  Data:               nasdaq              Root Path:          ./                  \n",
            "  Data Path:          NASDAQ_2022_2023_BID_ACTIVE.csvFeatures:           T                   \n",
            "  Target:             Open                Freq:               t                   \n",
            "  Checkpoints:        ./checkpoints/      \n",
            "\n",
            "\u001b[1mForecasting Task\u001b[0m\n",
            "  Seq Len:            50                  Label Len:          50                  \n",
            "  Pred Len:           50                  Seasonal Patterns:  Monthly             \n",
            "  Inverse:            1                   \n",
            "\n",
            "\u001b[1mModel Parameters\u001b[0m\n",
            "  Top k:              5                   Num Kernels:        6                   \n",
            "  Enc In:             1                   Dec In:             1                   \n",
            "  C Out:              1                   d model:            512                 \n",
            "  n heads:            8                   e layers:           2                   \n",
            "  d layers:           1                   d FF:               2048                \n",
            "  Moving Avg:         25                  Factor:             3                   \n",
            "  Distil:             1                   Dropout:            0.1                 \n",
            "  Embed:              timeF               Activation:         gelu                \n",
            "  Output Attention:   0                   \n",
            "\n",
            "\u001b[1mRun Parameters\u001b[0m\n",
            "  Num Workers:        10                  Itr:                1                   \n",
            "  Train Epochs:       1                   Batch Size:         128                 \n",
            "  Patience:           3                   Learning Rate:      0.0001              \n",
            "  Des:                'Exp'               Loss:               MSE                 \n",
            "  Lradj:              type1               Use Amp:            0                   \n",
            "\n",
            "\u001b[1mGPU\u001b[0m\n",
            "  Use GPU:            1                   GPU:                0                   \n",
            "  Use Multi GPU:      0                   Devices:            0,1,2,3             \n",
            "\n",
            "\u001b[1mDe-stationary Projector Params\u001b[0m\n",
            "  P Hidden Dims:      128, 128            P Hidden Layers:    2                   \n",
            "\n",
            "Use GPU: cuda:0\n",
            ">>>>>>>start training : long_term_forecast_NASDAQ_FIXED_50_50_Autoformer_nasdaq_ftT_sl50_ll50_pl50_dm512_nh8_el2_dl1_df2048_expand2_dc4_fc3_ebtimeF_dtTrue_'Exp'_0>>>>>>>>>>>>>>>>>>>>>>>>>>\n",
            "Unique Timestamps: 156133, Total Rows: 156133\n",
            "0   2022-01-03 14:30:00+00:00\n",
            "1   2022-01-03 14:31:00+00:00\n",
            "2   2022-01-03 14:32:00+00:00\n",
            "3   2022-01-03 14:33:00+00:00\n",
            "4   2022-01-03 14:34:00+00:00\n",
            "Name: date, dtype: datetime64[ns, UTC]\n",
            "train 77967\n",
            "Unique Timestamps: 156133, Total Rows: 156133\n",
            "0   2022-01-03 14:30:00+00:00\n",
            "1   2022-01-03 14:31:00+00:00\n",
            "2   2022-01-03 14:32:00+00:00\n",
            "3   2022-01-03 14:33:00+00:00\n",
            "4   2022-01-03 14:34:00+00:00\n",
            "Name: date, dtype: datetime64[ns, UTC]\n",
            "val 38985\n",
            "Unique Timestamps: 156133, Total Rows: 156133\n",
            "0   2022-01-03 14:30:00+00:00\n",
            "1   2022-01-03 14:31:00+00:00\n",
            "2   2022-01-03 14:32:00+00:00\n",
            "3   2022-01-03 14:33:00+00:00\n",
            "4   2022-01-03 14:34:00+00:00\n",
            "Name: date, dtype: datetime64[ns, UTC]\n",
            "test 38984\n",
            "\titers: 100, epoch: 1 | loss: 0.0064499\n",
            "\tspeed: 0.8510s/iter; left time: 434.0243s\n",
            "\titers: 200, epoch: 1 | loss: 0.0066788\n",
            "\tspeed: 0.2937s/iter; left time: 120.3984s\n",
            "\titers: 300, epoch: 1 | loss: 0.0059809\n",
            "\tspeed: 0.2919s/iter; left time: 90.4928s\n",
            "\titers: 400, epoch: 1 | loss: 0.0083539\n",
            "\tspeed: 0.2916s/iter; left time: 61.2412s\n",
            "\titers: 500, epoch: 1 | loss: 0.0051785\n",
            "\tspeed: 0.2894s/iter; left time: 31.8385s\n",
            "\titers: 600, epoch: 1 | loss: 0.0065820\n",
            "\tspeed: 0.2892s/iter; left time: 2.8915s\n",
            "Epoch: 1 cost time: 234.58622932434082\n",
            "Epoch: 1, Steps: 609 | Train Loss: 0.0096924 Vali Loss: 0.0082351 Test Loss: 0.0079143\n",
            "Validation loss decreased (inf --> 0.008235).  Saving model ...\n",
            "Updating learning rate to 0.0001\n",
            ">>>>>>>testing : long_term_forecast_NASDAQ_FIXED_50_50_Autoformer_nasdaq_ftT_sl50_ll50_pl50_dm512_nh8_el2_dl1_df2048_expand2_dc4_fc3_ebtimeF_dtTrue_'Exp'_0<<<<<<<<<<<<<<<<<<<<<<<<<<<<<<<<<\n",
            "Unique Timestamps: 156133, Total Rows: 156133\n",
            "0   2022-01-03 14:30:00+00:00\n",
            "1   2022-01-03 14:31:00+00:00\n",
            "2   2022-01-03 14:32:00+00:00\n",
            "3   2022-01-03 14:33:00+00:00\n",
            "4   2022-01-03 14:34:00+00:00\n",
            "Name: date, dtype: datetime64[ns, UTC]\n",
            "test 38984\n",
            "test shape: (304, 128, 50, 1) (304, 128, 50, 1)\n",
            "test shape: (38912, 50, 1) (38912, 50, 1)\n",
            "mse:15056.8623046875, mae:84.55284881591797, dtw:-999\n",
            "Notebook execution succeeded in 00:09:51.\n"
          ]
        }
      ],
      "source": [
        "# Record the start time\n",
        "notebook_start_time = time.time()\n",
        "if USING_COLAB:\n",
        "  !export CUDA_VISIBLE_DEVICES=7\n",
        "  !python -u ./Time-Series-Library/run.py \\\n",
        "    --task_name long_term_forecast \\\n",
        "    --is_training 1 \\\n",
        "    --root_path /content/drive/MyDrive/Trading/Data/ \\\n",
        "    --data_path $data_file \\\n",
        "    --model_id {name}_{input_len}_{output_len} \\\n",
        "    --model Autoformer \\\n",
        "    --data $data \\\n",
        "    --features $features \\\n",
        "    --freq t \\\n",
        "    --train_epochs $epochs \\\n",
        "    --patience $patience \\\n",
        "    --inverse \\\n",
        "    --target $target \\\n",
        "    --seq_len $input_len \\\n",
        "    --label_len 24 \\\n",
        "    --pred_len $output_len \\\n",
        "    --batch_size 64 \\\n",
        "    --loss $loss \\\n",
        "    --e_layers 2 \\\n",
        "    --d_layers 1 \\\n",
        "    --factor 3 \\\n",
        "    --enc_in 8 \\\n",
        "    --dec_in 8 \\\n",
        "    --c_out 8 \\\n",
        "    --des 'Exp' \\\n",
        "    --itr 1\n",
        "else:\n",
        "  #!python -u ./run.py \\\n",
        "  %run -i ./run.py \\\n",
        "    --task_name long_term_forecast \\\n",
        "    --is_training 1 \\\n",
        "    --root_path ./ \\\n",
        "    --data_path $data_file \\\n",
        "    --model_id {name}_{input_len}_{output_len} \\\n",
        "    --model Autoformer \\\n",
        "    --data $data \\\n",
        "    --features $features \\\n",
        "    --freq t \\\n",
        "    --train_epochs $epochs \\\n",
        "    --patience $patience \\\n",
        "    --inverse \\\n",
        "    --target $target \\\n",
        "    --seq_len $input_len \\\n",
        "    --label_len $label_len \\\n",
        "    --pred_len $output_len \\\n",
        "    --batch_size 128 \\\n",
        "    --loss $loss \\\n",
        "    --embed fixed \\\n",
        "    --e_layers 2 \\\n",
        "    --d_layers 1 \\\n",
        "    --factor 3 \\\n",
        "    --enc_in 1 \\\n",
        "    --dec_in 1 \\\n",
        "    --c_out 1 \\\n",
        "    --des 'Exp' \\\n",
        "    --itr 1\n",
        "\n",
        "# Record the end time\n",
        "notebook_end_time = time.time()\n",
        "\n",
        "# Calculate the duration\n",
        "notebook_duration = notebook_end_time - notebook_start_time\n",
        "print(f\"Notebook execution succeeded in {format_time(notebook_duration)}.\")"
      ]
    }
  ],
  "metadata": {
    "accelerator": "GPU",
    "colab": {
      "gpuType": "T4",
      "provenance": []
    },
    "kernelspec": {
      "display_name": "Python 3",
      "name": "python3"
    },
    "language_info": {
      "codemirror_mode": {
        "name": "ipython",
        "version": 3
      },
      "file_extension": ".py",
      "mimetype": "text/x-python",
      "name": "python",
      "nbconvert_exporter": "python",
      "pygments_lexer": "ipython3",
      "version": "3.12.0"
    }
  },
  "nbformat": 4,
  "nbformat_minor": 0
}
