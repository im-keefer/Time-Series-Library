{
 "cells": [
  {
   "cell_type": "markdown",
   "metadata": {
    "id": "BW0-akOj69OI"
   },
   "source": [
    "# Transformer"
   ]
  },
  {
   "cell_type": "markdown",
   "metadata": {
    "id": "jT0gI3B6F4K2"
   },
   "source": [
    "## Environment Setup"
   ]
  },
  {
   "cell_type": "code",
   "execution_count": null,
   "metadata": {
    "tags": [
     "parameters"
    ]
   },
   "outputs": [],
   "source": [
    "epochs = 1\n",
    "patience = 12\n",
    "input_len = 50\n",
    "label_len = 25\n",
    "output_len = 50\n",
    "features = 'T'\n",
    "target = 'Open'\n",
    "loss = 'MSE'\n",
    "data_file = 'USATECH.IDXUSD_Candlestick_1_M_BID_01.01.2022-01.01.2024.csv'\n",
    "data = 'nasdaq'\n",
    "name = 'NASDAQ_FIXED'\n",
    "features_in = 1\n",
    "beta1 = 0.9\n",
    "beta2 = 0.999\n",
    "eps = 1e-8\n",
    "d_ff = 2048\n",
    "d_model = 512\n",
    "n_heads = 8\n",
    "vrmse_loss_scale = 1\n",
    "CUDA_DEBUG = False"
   ]
  },
  {
   "cell_type": "markdown",
   "metadata": {
    "id": "oVIUVpZ3FCrh"
   },
   "source": [
    "### Mount Drive Data"
   ]
  },
  {
   "cell_type": "code",
   "execution_count": 3,
   "metadata": {
    "colab": {
     "base_uri": "https://localhost:8080/"
    },
    "id": "IHFRN5DzFErB",
    "outputId": "09515aaa-61ee-40eb-a628-0a5ded08073a"
   },
   "outputs": [
    {
     "name": "stdout",
     "output_type": "stream",
     "text": [
      "Google Colab environment not detected, running locally.\n"
     ]
    }
   ],
   "source": [
    "INSTALL_DEPENDENCIES = False\n",
    "USING_COLAB = False\n",
    "try:\n",
    "    from google.colab import drive\n",
    "    drive.mount('/content/drive')\n",
    "    USING_COLAB = True\n",
    "    INSTALL_DEPENDENCIES = True\n",
    "except ModuleNotFoundError:\n",
    "    print(\"Google Colab environment not detected, running locally.\")"
   ]
  },
  {
   "cell_type": "markdown",
   "metadata": {
    "id": "silDE2Qh7BkY"
   },
   "source": [
    "### Clone Time-Series-Library"
   ]
  },
  {
   "cell_type": "code",
   "execution_count": 4,
   "metadata": {
    "colab": {
     "base_uri": "https://localhost:8080/"
    },
    "id": "GTBWxlFk6Ksa",
    "outputId": "b05dbf75-618a-4c10-866f-0ec491ecd966"
   },
   "outputs": [],
   "source": [
    "if INSTALL_DEPENDENCIES:\n",
    "  if USING_COLAB:\n",
    "    %git clone -b google-colab --single-branch https://github.com/im-keefer/Time-Series-Library.git\n",
    "    %cd Time-Series-Library && pip install -r requirements_colab.txt\n",
    "  else:\n",
    "    %pip install -r requirements.txt"
   ]
  },
  {
   "cell_type": "markdown",
   "metadata": {
    "id": "r94GYuIQLcgE"
   },
   "source": [
    "## Running The Model"
   ]
  },
  {
   "cell_type": "code",
   "execution_count": 5,
   "metadata": {},
   "outputs": [],
   "source": [
    "def format_time(seconds):\n",
    "\tmins, secs = divmod(seconds, 60)\n",
    "\thrs, mins = divmod(mins, 60)\n",
    "\treturn f\"{int(hrs):02d}:{int(mins):02d}:{int(secs):02d}\""
   ]
  },
  {
   "cell_type": "code",
   "execution_count": 6,
   "metadata": {},
   "outputs": [],
   "source": [
    "import os\n",
    "import time\n",
    "if CUDA_DEBUG:\n",
    "  os.environ['CUDA_LAUNCH_BLOCKING'] = '1'"
   ]
  },
  {
   "cell_type": "code",
   "execution_count": 7,
   "metadata": {
    "colab": {
     "base_uri": "https://localhost:8080/"
    },
    "id": "Sc24K6VALmwc",
    "outputId": "e2dbdb28-ded3-4f4e-dd23-1aa2bd49dcdf"
   },
   "outputs": [
    {
     "name": "stdout",
     "output_type": "stream",
     "text": [
      "True\n",
      "Args in experiment:\n",
      "\u001b[1mBasic Config\u001b[0m\n",
      "  Task Name:          long_term_forecast  Is Training:        1                   \n",
      "  Model ID:           NASDAQ_FIXED_50_50  Model:              Nonstationary_Transformer\n",
      "\n",
      "\u001b[1mData Loader\u001b[0m\n",
      "  Data:               nasdaq              Root Path:          ./                  \n",
      "  Data Path:          USATECH.IDXUSD_Candlestick_1_M_BID_01.01.2022-01.01.2024.csvFeatures:           T                   \n",
      "  Target:             Open                Freq:               t                   \n",
      "  Checkpoints:        ./checkpoints/      \n",
      "\n",
      "\u001b[1mForecasting Task\u001b[0m\n",
      "  Seq Len:            50                  Label Len:          25                  \n",
      "  Pred Len:           50                  Seasonal Patterns:  Monthly             \n",
      "  Inverse:            1                   \n",
      "\n",
      "\u001b[1mModel Parameters\u001b[0m\n",
      "  Top k:              5                   Num Kernels:        6                   \n",
      "  Enc In:             1                   Dec In:             1                   \n",
      "  C Out:              1                   d model:            1024                \n",
      "  n heads:            16                  e layers:           2                   \n",
      "  d layers:           1                   d FF:               4096                \n",
      "  Moving Avg:         25                  Factor:             3                   \n",
      "  Distil:             1                   Dropout:            0.1                 \n",
      "  Embed:              fixed               Activation:         gelu                \n",
      "  Output Attention:   0                   \n",
      "\n",
      "\u001b[1mRun Parameters\u001b[0m\n",
      "  Num Workers:        10                  Itr:                1                   \n",
      "  Train Epochs:       1                   Batch Size:         128                 \n",
      "  Patience:           3                   Learning Rate:      0.0001              \n",
      "  Des:                'Exp'               Loss:               VRMSE               \n",
      "  Lradj:              type1               Use Amp:            0                   \n",
      "\n",
      "\u001b[1mGPU\u001b[0m\n",
      "  Use GPU:            1                   GPU:                0                   \n",
      "  Use Multi GPU:      0                   Devices:            0,1,2,3             \n",
      "\n",
      "\u001b[1mDe-stationary Projector Params\u001b[0m\n",
      "  P Hidden Dims:      256, 256            P Hidden Layers:    2                   \n",
      "\n",
      "Use GPU: cuda:0\n",
      ">>>>>>>start training : long_term_forecast_NASDAQ_FIXED_50_50_Nonstationary_Transformer_nasdaq_ftT_sl50_ll25_pl50_dm1024_nh16_el2_dl1_df4096_expand2_dc4_fc3_ebfixed_dtTrue_'Exp'_0>>>>>>>>>>>>>>>>>>>>>>>>>>\n",
      "type_map:  0\n",
      "data_raw:  674253\n",
      "border1s:  [0, 337076, 505640]\n",
      "border2s:  [337126, 505690, 674253]\n",
      "train 337027\n",
      "type_map:  1\n",
      "data_raw:  674253\n",
      "border1s:  [0, 337076, 505640]\n",
      "border2s:  [337126, 505690, 674253]\n",
      "val 168515\n",
      "type_map:  2\n",
      "data_raw:  674253\n",
      "border1s:  [0, 337076, 505640]\n",
      "border2s:  [337126, 505690, 674253]\n",
      "test 168514\n",
      "\titers: 100, epoch: 1 | loss: 0.0223747\n",
      "\tspeed: 0.8267s/iter; left time: 2095.6607s\n",
      "\titers: 200, epoch: 1 | loss: 0.0237345\n",
      "\tspeed: 0.2719s/iter; left time: 662.1036s\n",
      "\titers: 300, epoch: 1 | loss: 0.0236012\n",
      "\tspeed: 0.2726s/iter; left time: 636.5080s\n",
      "\titers: 400, epoch: 1 | loss: 0.0227149\n",
      "\tspeed: 0.2729s/iter; left time: 610.0379s\n",
      "\titers: 500, epoch: 1 | loss: 0.0288685\n",
      "\tspeed: 0.2730s/iter; left time: 582.8857s\n",
      "\titers: 600, epoch: 1 | loss: 0.0301796\n",
      "\tspeed: 0.2731s/iter; left time: 555.6742s\n",
      "\titers: 700, epoch: 1 | loss: 0.0284683\n",
      "\tspeed: 0.2732s/iter; left time: 528.6087s\n",
      "\titers: 800, epoch: 1 | loss: 0.0241369\n",
      "\tspeed: 0.2732s/iter; left time: 501.3773s\n",
      "\titers: 900, epoch: 1 | loss: 0.0316403\n",
      "\tspeed: 0.2733s/iter; left time: 474.2359s\n",
      "\titers: 1000, epoch: 1 | loss: 0.0215075\n",
      "\tspeed: 0.2736s/iter; left time: 447.2640s\n",
      "\titers: 1100, epoch: 1 | loss: 0.0249229\n",
      "\tspeed: 0.2736s/iter; left time: 419.9389s\n",
      "\titers: 1200, epoch: 1 | loss: 0.0230203\n",
      "\tspeed: 0.2736s/iter; left time: 392.5904s\n",
      "\titers: 1300, epoch: 1 | loss: 0.0260316\n",
      "\tspeed: 0.2739s/iter; left time: 365.6573s\n",
      "\titers: 1400, epoch: 1 | loss: 0.0283807\n",
      "\tspeed: 0.2737s/iter; left time: 338.0418s\n",
      "\titers: 1500, epoch: 1 | loss: 0.0242843\n",
      "\tspeed: 0.2736s/iter; left time: 310.5907s\n",
      "\titers: 1600, epoch: 1 | loss: 0.0287271\n",
      "\tspeed: 0.2737s/iter; left time: 283.2443s\n",
      "\titers: 1700, epoch: 1 | loss: 0.0303961\n",
      "\tspeed: 0.2743s/iter; left time: 256.4488s\n",
      "\titers: 1800, epoch: 1 | loss: 0.0278932\n",
      "\tspeed: 0.2745s/iter; left time: 229.2086s\n",
      "\titers: 1900, epoch: 1 | loss: 0.0397052\n",
      "\tspeed: 0.2745s/iter; left time: 201.7414s\n",
      "\titers: 2000, epoch: 1 | loss: 0.0290845\n",
      "\tspeed: 0.2745s/iter; left time: 174.3167s\n",
      "\titers: 2100, epoch: 1 | loss: 0.0250780\n",
      "\tspeed: 0.2744s/iter; left time: 146.8131s\n",
      "\titers: 2200, epoch: 1 | loss: 0.0279937\n",
      "\tspeed: 0.2741s/iter; left time: 119.2364s\n",
      "\titers: 2300, epoch: 1 | loss: 0.0233983\n",
      "\tspeed: 0.2738s/iter; left time: 91.7086s\n",
      "\titers: 2400, epoch: 1 | loss: 0.0248022\n",
      "\tspeed: 0.2738s/iter; left time: 64.3360s\n",
      "\titers: 2500, epoch: 1 | loss: 0.0298822\n",
      "\tspeed: 0.2737s/iter; left time: 36.9525s\n",
      "\titers: 2600, epoch: 1 | loss: 0.0257436\n",
      "\tspeed: 0.2737s/iter; left time: 9.5803s\n",
      "Epoch: 1 cost time: 776.0204405784607\n",
      "Epoch: 1, Steps: 2634 | Train Loss: 0.0271340 Vali Loss: 0.0166292 Test Loss: 0.0144099\n",
      "Validation loss decreased (inf --> 0.016629).  Saving model ...\n",
      "Updating learning rate to 0.0001\n",
      ">>>>>>>testing : long_term_forecast_NASDAQ_FIXED_50_50_Nonstationary_Transformer_nasdaq_ftT_sl50_ll25_pl50_dm1024_nh16_el2_dl1_df4096_expand2_dc4_fc3_ebfixed_dtTrue_'Exp'_0<<<<<<<<<<<<<<<<<<<<<<<<<<<<<<<<<\n",
      "type_map:  2\n",
      "data_raw:  674253\n",
      "border1s:  [0, 337076, 505640]\n",
      "border2s:  [337126, 505690, 674253]\n",
      "test 168514\n",
      "test shape: (168514, 50, 1) (168514, 50, 1)\n",
      "test shape: (168514, 50, 1) (168514, 50, 1)\n",
      "mse:437.9594421386719, mae:12.72683048248291, dtw:-999\n",
      "Notebook execution succeeded in 01:56:13.\n"
     ]
    }
   ],
   "source": [
    "# Record the start time\n",
    "notebook_start_time = time.time()\n",
    "if USING_COLAB:\n",
    "  !export CUDA_VISIBLE_DEVICES=7\n",
    "  !python -u ./Time-Series-Library/run.py \\\n",
    "    --task_name long_term_forecast \\\n",
    "    --is_training 1 \\\n",
    "    --root_path /content/drive/MyDrive/Trading/Data/ \\\n",
    "    --data_path $data_file \\\n",
    "    --model_id {name}_{input_len}_{output_len} \\\n",
    "    --model Nonstationary_Transformer \\\n",
    "    --data $data \\\n",
    "    --features $features \\\n",
    "    --freq t \\\n",
    "    --train_epochs $epochs \\\n",
    "    --patience $patience \\\n",
    "    --inverse \\\n",
    "    --target $target \\\n",
    "    --seq_len $input_len \\\n",
    "    --label_len 24 \\\n",
    "    --pred_len $output_len \\\n",
    "    --batch_size 64 \\\n",
    "    --loss $loss \\\n",
    "    --embed timeF \\\n",
    "    --e_layers 2 \\\n",
    "    --d_layers 1 \\\n",
    "    --factor 3 \\\n",
    "    --enc_in $features_in \\\n",
    "    --dec_in $features_in \\\n",
    "    --c_out $features_in \\\n",
    "    --des 'Exp' \\\n",
    "    --itr 1 \\\n",
    "    --beta1 $beta1 \\\n",
    "    --beta2 $beta2 \\\n",
    "    --eps $eps \\\n",
    "    --vrmse_loss_scale $vrmse_loss_scale \\\n",
    "    --p_hidden_dims 256 256 \\\n",
    "    --p_hidden_layers 2\n",
    "else:\n",
    "  #!python -u  ./run.py \\\n",
    "   %run -i ./run.py \\\n",
    "    --task_name long_term_forecast \\\n",
    "    --is_training 1 \\\n",
    "    --root_path ./ \\\n",
    "    --data_path $data_file \\\n",
    "    --model_id {name}_{input_len}_{output_len} \\\n",
    "    --model Nonstationary_Transformer \\\n",
    "    --data $data \\\n",
    "    --features $features \\\n",
    "    --freq t \\\n",
    "    --train_epochs $epochs \\\n",
    "    --patience $patience \\\n",
    "    --inverse \\\n",
    "    --target $target \\\n",
    "    --seq_len $input_len \\\n",
    "    --label_len $label_len \\\n",
    "    --pred_len $output_len \\\n",
    "    --batch_size 128 \\\n",
    "    --loss $loss \\\n",
    "    --embed fixed \\\n",
    "    --e_layers 2 \\\n",
    "    --d_layers 1 \\\n",
    "    --factor 3 \\\n",
    "    --enc_in $features_in \\\n",
    "    --dec_in $features_in \\\n",
    "    --c_out $features_in \\\n",
    "    --des 'Exp' \\\n",
    "    --itr 1 \\\n",
    "    --beta1 $beta1 \\\n",
    "    --beta2 $beta2 \\\n",
    "    --eps $eps \\\n",
    "    --vrmse_loss_scale $vrmse_loss_scale \\\n",
    "    --p_hidden_dims 256 256 \\\n",
    "    --p_hidden_layers 2 \\\n",
    "    --d_ff $d_ff \\\n",
    "    --d_model $d_model \\\n",
    "    --n_heads $n_heads\n",
    "\n",
    "# Record the end time\n",
    "notebook_end_time = time.time()\n",
    "\n",
    "# Calculate the duration\n",
    "notebook_duration = notebook_end_time - notebook_start_time\n",
    "print(f\"Notebook execution succeeded in {format_time(notebook_duration)}.\")"
   ]
  },
  {
   "cell_type": "code",
   "execution_count": null,
   "metadata": {},
   "outputs": [],
   "source": []
  }
 ],
 "metadata": {
  "accelerator": "GPU",
  "colab": {
   "gpuType": "T4",
   "provenance": []
  },
  "kernelspec": {
   "display_name": "Python 3",
   "name": "python3"
  },
  "language_info": {
   "codemirror_mode": {
    "name": "ipython",
    "version": 3
   },
   "file_extension": ".py",
   "mimetype": "text/x-python",
   "name": "python",
   "nbconvert_exporter": "python",
   "pygments_lexer": "ipython3",
   "version": "3.9.7"
  }
 },
 "nbformat": 4,
 "nbformat_minor": 0
}
