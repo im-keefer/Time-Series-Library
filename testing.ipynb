{
 "cells": [
  {
   "cell_type": "code",
   "execution_count": 40,
   "metadata": {},
   "outputs": [],
   "source": [
    "import papermill as pm\n",
    "import time\n",
    "import os"
   ]
  },
  {
   "cell_type": "code",
   "execution_count": 41,
   "metadata": {},
   "outputs": [],
   "source": [
    "output_path = './' # Main output directory\n",
    "output_folder = 'output/' # What folder output notebooks should be in\n",
    "output_name = 'output.ipynb' # The name of the output notebook"
   ]
  },
  {
   "cell_type": "code",
   "execution_count": 42,
   "metadata": {},
   "outputs": [],
   "source": [
    "parameter_sets = [\n",
    "    #{\n",
    "    #    'epochs': 1,\n",
    "    #    'input_len': 50,\n",
    "    #    'output_len': 50,\n",
    "    #    'target' : 'OPEN',\n",
    "    #    'data_file': 'EURUSD-short.txt',\n",
    "    #    'data' : 'eurusd',\n",
    "    #    'name' : 'EurUsd'\n",
    "    #},\n",
    "    #{\n",
    "    #    'epochs': 25,\n",
    "    #    'input_len': 50,\n",
    "    #    'output_len': 10,\n",
    "    #    'target' : 'OPEN',\n",
    "    #    'data_file': 'EURUSD-short.txt',\n",
    "    #    'data' : 'eurusd',\n",
    "    #    'name' : 'EurUsd'\n",
    "    #},\n",
    "    #{\n",
    "    #    'epochs': 25,\n",
    "    #    'input_len': 50,\n",
    "    #    'output_len': 50,\n",
    "    #    'target' : 'OPEN',\n",
    "    #    'data_file': 'EURUSD_2022.txt',\n",
    "    #    'data' : 'eurusd',\n",
    "    #    'name' : 'EurUsd'\n",
    "    #},\n",
    "    #{\n",
    "    #    'epochs': 1,\n",
    "    #    'input_len': 50,\n",
    "    #    'output_len': 50,\n",
    "    #    'target' : 'Open',\n",
    "    #    'data_file': 'NASDAQ_2022_BID.csv',\n",
    "    #    'data' : 'nasdaq',\n",
    "    #    'name' : 'NASDAQ'\n",
    "    #},\n",
    "    {\n",
    "        'epochs': 1,\n",
    "        'input_len': 50,\n",
    "        'output_len': 50,\n",
    "        'target' : 'Open',\n",
    "        'data_file': 'DAT_MT_XAUUSD_M1_2022.csv',\n",
    "        'data' : 'gold',\n",
    "        'name' : 'Gold'\n",
    "    },\n",
    "]"
   ]
  },
  {
   "cell_type": "code",
   "execution_count": 43,
   "metadata": {},
   "outputs": [],
   "source": [
    "notebook_set = {\n",
    "    #'autoformer':'./autoformer_tsl.ipynb',\n",
    "    #'informer':'./informer_tsl.ipynb',\n",
    "    'itransformer':'./itransformer_tsl.ipynb'\n",
    "}"
   ]
  },
  {
   "cell_type": "code",
   "execution_count": 44,
   "metadata": {},
   "outputs": [],
   "source": [
    "def format_time(seconds):\n",
    "\tmins, secs = divmod(seconds, 60)\n",
    "\thrs, mins = divmod(mins, 60)\n",
    "\treturn f\"{int(hrs):02d}:{int(mins):02d}:{int(secs):02d}\""
   ]
  },
  {
   "cell_type": "code",
   "execution_count": 45,
   "metadata": {},
   "outputs": [
    {
     "data": {
      "application/vnd.jupyter.widget-view+json": {
       "model_id": "06830707fb35432d887dbd2b2efc9991",
       "version_major": 2,
       "version_minor": 0
      },
      "text/plain": [
       "Executing:   0%|          | 0/10 [00:00<?, ?cell/s]"
      ]
     },
     "metadata": {},
     "output_type": "display_data"
    },
    {
     "name": "stdout",
     "output_type": "stream",
     "text": [
      "Notebook execution 1 succeeded in 00:05:49.\n"
     ]
    }
   ],
   "source": [
    "# Loop over the parameter sets and run the notebook for each set\n",
    "for i, params in enumerate(parameter_sets):\n",
    "\tfor j, (notebook, path) in enumerate(notebook_set.items()):\n",
    "\t\ttry:\n",
    "\t\t\t# Ensure output folder exists\n",
    "\t\t\tif not os.path.exists(os.path.join(output_path, output_folder, f'output_{i+1}_{notebook}/')):\n",
    "\t\t\t\tos.makedirs(os.path.join(output_path, output_folder, f'output_{i+1}_{notebook}/'))\n",
    "\n",
    "\t\t\toutput_name = f'output_{i+1}_{notebook}.ipynb'  # Create a unique output name for each run\n",
    "\t\t\tfull_output_path = os.path.join(output_path, output_folder, f'output_{i+1}_{notebook}/', output_name)\n",
    "\t\t\t\n",
    "\t\t\t# Record the start time\n",
    "\t\t\tnotebook_start_time = time.time()\n",
    "\n",
    "\t\t\tpm.execute_notebook(\n",
    "\t\t\t\tinput_path=path,\n",
    "\t\t\t\toutput_path=full_output_path,\n",
    "\t\t\t\tparameters=params,  # Parameters to apply to the notebook\n",
    "\t\t\t\tlog_output=True,  # Lets us see the output of the notebook from here\n",
    "\t\t\t)\n",
    "\n",
    "\t\t\t# Record the end time\n",
    "\t\t\tnotebook_end_time = time.time()\n",
    "\n",
    "\t\t\t# Calculate the duration\n",
    "\t\t\tnotebook_duration = notebook_end_time - notebook_start_time\n",
    "\t\t\tprint(f\"Notebook execution {i+1} succeeded in {format_time(notebook_duration)}.\")\n",
    "\t\texcept Exception as e:\n",
    "\t\t\tprint(f\"Notebook execution {i+1} failed with error: {e}\")"
   ]
  }
 ],
 "metadata": {
  "kernelspec": {
   "display_name": "Python 3",
   "language": "python",
   "name": "python3"
  },
  "language_info": {
   "codemirror_mode": {
    "name": "ipython",
    "version": 3
   },
   "file_extension": ".py",
   "mimetype": "text/x-python",
   "name": "python",
   "nbconvert_exporter": "python",
   "pygments_lexer": "ipython3",
   "version": "3.12.0"
  }
 },
 "nbformat": 4,
 "nbformat_minor": 2
}
