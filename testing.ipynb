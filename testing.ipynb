{
 "cells": [
  {
   "cell_type": "code",
   "execution_count": 4,
   "metadata": {},
   "outputs": [],
   "source": [
    "import papermill as pm\n",
    "import time\n",
    "import os"
   ]
  },
  {
   "cell_type": "code",
   "execution_count": 5,
   "metadata": {},
   "outputs": [],
   "source": [
    "output_path = './' # Main output directory\n",
    "output_folder = 'output/' # What folder output notebooks should be in\n",
    "output_name = 'output.ipynb' # The name of the output notebook"
   ]
  },
  {
   "cell_type": "code",
   "execution_count": 6,
   "metadata": {},
   "outputs": [
    {
     "ename": "SyntaxError",
     "evalue": "invalid syntax (643739090.py, line 132)",
     "output_type": "error",
     "traceback": [
      "\u001b[1;36m  Cell \u001b[1;32mIn[6], line 132\u001b[1;36m\u001b[0m\n\u001b[1;33m    'features_in' : 5,\u001b[0m\n\u001b[1;37m                  ^\u001b[0m\n\u001b[1;31mSyntaxError\u001b[0m\u001b[1;31m:\u001b[0m invalid syntax\n"
     ]
    }
   ],
   "source": [
    "parameter_sets = [\n",
    "    #{\n",
    "    #    'epochs': 1,\n",
    "    #    'input_len': 50,\n",
    "    #    'output_len': 50,\n",
    "    #    'target' : 'OPEN',\n",
    "    #    'data_file': 'EURUSD-short.txt',\n",
    "    #    'data' : 'eurusd',\n",
    "    #    'name' : 'EurUsd'\n",
    "    #},\n",
    "    #{\n",
    "    #    'epochs': 25,\n",
    "    #    'input_len': 50,\n",
    "    #    'output_len': 10,\n",
    "    #    'target' : 'OPEN',\n",
    "    #    'data_file': 'EURUSD-short.txt',\n",
    "    #    'data' : 'eurusd',\n",
    "    #    'name' : 'EurUsd'\n",
    "    #},\n",
    "    #{\n",
    "    #    'epochs': 25,\n",
    "    #    'input_len': 50,\n",
    "    #    'output_len': 50,\n",
    "    #    'target' : 'OPEN',\n",
    "    #    'data_file': 'EURUSD_2022.txt',\n",
    "    #    'data' : 'eurusd',\n",
    "    #    'name' : 'EurUsd'\n",
    "    #},\n",
    "    #{\n",
    "    #    'epochs': 1,\n",
    "    #    'input_len': 50,\n",
    "    #    'output_len': 50,\n",
    "    #    'target' : 'Open',\n",
    "    #    'data_file': 'NASDAQ_2022_BID.csv',\n",
    "    #    'data' : 'nasdaq',\n",
    "    #    'name' : 'NASDAQ'\n",
    "    #},\n",
    "    #{\n",
    "    #    'epochs': 1,\n",
    "    #    'input_len': 50,\n",
    "    #    'output_len': 50,\n",
    "    #    'target' : 'Open',\n",
    "    #    'data_file': 'DAT_MT_XAUUSD_M1_2022.csv',\n",
    "    #    'data' : 'gold',\n",
    "    #    'name' : 'Gold'\n",
    "    #},\n",
    "    #{\n",
    "    #    'epochs': 25,\n",
    "    #    'input_len': 50,\n",
    "    #    'output_len': 50,\n",
    "    #    'target' : 'Open',\n",
    "    #    'data_file': 'NASDAQ_2022_BID.csv',\n",
    "    #    'data' : 'nasdaq',\n",
    "    #    'name' : 'NASDAQ'\n",
    "    #},\n",
    "    #{\n",
    "    #    'epochs': 25,\n",
    "    #    'input_len': 50,\n",
    "    #    'output_len': 50,\n",
    "    #    'target' : 'Open',\n",
    "    #    'data_file': 'NASDAQ_2022_2023_BID_ACTIVE.csv',\n",
    "    #    'data' : 'nasdaq',\n",
    "    #    'name' : 'NASDAQACTIVE'\n",
    "    #},\n",
    "    #{\n",
    "    #    'epochs': 25,\n",
    "    #    'input_len': 50,\n",
    "    #    'output_len': 50,\n",
    "    #    'target' : 'Open',\n",
    "    #    'data_file': 'DJI_2022_BID.csv',\n",
    "    #    'data' : 'nasdaq',\n",
    "    #    'name' : 'DJI'\n",
    "    #},\n",
    "    #{\n",
    "    #    'epochs': 25,\n",
    "    #    'input_len': 50,\n",
    "    #    'output_len': 50,\n",
    "    #    'target' : 'Open',\n",
    "    #    'data_file': 'DAT_MT_XAUUSD_M1_2022.csv',\n",
    "    #    'data' : 'gold',\n",
    "    #    'name' : 'Gold'\n",
    "    #},\n",
    "    #{\n",
    "    #    'epochs': 50,\n",
    "    #    'patience' : 50,\n",
    "    #    'input_len': 50,\n",
    "    #    'output_len': 50,\n",
    "    #    'target' : 'Open',\n",
    "    #    'data_file': 'NASDAQ_2022_2023_BID_ACTIVE.csv',\n",
    "    #    'data' : 'nasdaq',\n",
    "    #    'name' : 'NASDAQACTIVE'\n",
    "    #},\n",
    "    # {\n",
    "    #     'epochs': 50,\n",
    "    #     'patience' : 50,\n",
    "    #     'input_len': 50,\n",
    "    #     'output_len': 50,\n",
    "    #     'target' : 'Open',\n",
    "    #     'data_file': 'DJI_2022_2023_BID_ACTIVE.csv',\n",
    "    #     'data' : 'nasdaq',\n",
    "    #     'name' : 'DJIACTIVE'\n",
    "    # },\n",
    "    # {\n",
    "    #     'epochs': 50,\n",
    "    #     'patience' : 50,\n",
    "    #     'input_len': 50,\n",
    "    #     'output_len': 50,\n",
    "    #     'target' : 'Open',\n",
    "    #     'data_file': 'GOLD_2022_2023_ACTIVE.csv',\n",
    "    #     'data' : 'gold',\n",
    "    #     'name' : 'GOLDACTIVE'\n",
    "    # },\n",
    "    # {\n",
    "    #     'epochs': 50,\n",
    "    #     'patience' : 50,\n",
    "    #     'input_len': 50,\n",
    "    #     'output_len': 50,\n",
    "    #     'target' : 'Open',\n",
    "    #     'data_file': 'OIL_2022_2023_BID_ACTIVE.csv',\n",
    "    #     'data' : 'nasdaq',\n",
    "    #     'name' : 'OILACTIVE'\n",
    "    # },\n",
    "    {\n",
    "        'epochs': 25,\n",
    "        'input_len': 50,\n",
    "        'output_len': 50,\n",
    "        'target' : 'EURUSD',\n",
    "        'data_file': 'INDEX_MULTI_2022_2023.csv',\n",
    "        'data' : 'stockmulti',\n",
    "        'features' : 'MT',\n",
    "        'name' : 'MULTIVARIATE',\n",
    "        'features_in' : 5,\n",
    "    },\n",
    "]"
   ]
  },
  {
   "cell_type": "code",
   "execution_count": null,
   "metadata": {},
   "outputs": [],
   "source": [
    "notebook_set = {\n",
    "    #'autoformer':'./autoformer_tsl.ipynb',\n",
    "    #'informer':'./informer_tsl.ipynb',\n",
    "    'itransformer':'./itransformer_tsl.ipynb'\n",
    "}"
   ]
  },
  {
   "cell_type": "code",
   "execution_count": null,
   "metadata": {},
   "outputs": [],
   "source": [
    "def format_time(seconds):\n",
    "\tmins, secs = divmod(seconds, 60)\n",
    "\thrs, mins = divmod(mins, 60)\n",
    "\treturn f\"{int(hrs):02d}:{int(mins):02d}:{int(secs):02d}\""
   ]
  },
  {
   "cell_type": "code",
   "execution_count": null,
   "metadata": {},
   "outputs": [
    {
     "data": {
      "application/vnd.jupyter.widget-view+json": {
       "model_id": "42618da1478b4164a1537843fab84155",
       "version_major": 2,
       "version_minor": 0
      },
      "text/plain": [
       "Executing:   0%|          | 0/11 [00:00<?, ?cell/s]"
      ]
     },
     "metadata": {},
     "output_type": "display_data"
    },
    {
     "name": "stdout",
     "output_type": "stream",
     "text": [
      "Notebook execution 1 succeeded in 05:19:45.\n"
     ]
    },
    {
     "data": {
      "application/vnd.jupyter.widget-view+json": {
       "model_id": "d8b538d3e8d1472cb061d48576e61db8",
       "version_major": 2,
       "version_minor": 0
      },
      "text/plain": [
       "Executing:   0%|          | 0/10 [00:00<?, ?cell/s]"
      ]
     },
     "metadata": {},
     "output_type": "display_data"
    },
    {
     "name": "stdout",
     "output_type": "stream",
     "text": [
      "Notebook execution 1 succeeded in 03:13:29.\n"
     ]
    },
    {
     "data": {
      "application/vnd.jupyter.widget-view+json": {
       "model_id": "0ed6a838b922418db6f618c426da31bc",
       "version_major": 2,
       "version_minor": 0
      },
      "text/plain": [
       "Executing:   0%|          | 0/11 [00:00<?, ?cell/s]"
      ]
     },
     "metadata": {},
     "output_type": "display_data"
    },
    {
     "name": "stdout",
     "output_type": "stream",
     "text": [
      "Notebook execution 2 succeeded in 05:25:33.\n"
     ]
    },
    {
     "data": {
      "application/vnd.jupyter.widget-view+json": {
       "model_id": "f4ee6220f6e74b3ab44ed83a3b8545d2",
       "version_major": 2,
       "version_minor": 0
      },
      "text/plain": [
       "Executing:   0%|          | 0/10 [00:00<?, ?cell/s]"
      ]
     },
     "metadata": {},
     "output_type": "display_data"
    },
    {
     "name": "stdout",
     "output_type": "stream",
     "text": [
      "Notebook execution 2 succeeded in 03:14:45.\n"
     ]
    },
    {
     "data": {
      "application/vnd.jupyter.widget-view+json": {
       "model_id": "d06bca9844cb415c87cedda160bb28e0",
       "version_major": 2,
       "version_minor": 0
      },
      "text/plain": [
       "Executing:   0%|          | 0/11 [00:00<?, ?cell/s]"
      ]
     },
     "metadata": {},
     "output_type": "display_data"
    },
    {
     "name": "stderr",
     "output_type": "stream",
     "text": [
      "Traceback (most recent call last):\n",
      "  File \"c:\\Git\\Time-Series-Library\\run.py\", line 189, in <module>\n",
      "    exp.train(setting)\n",
      "  File \"c:\\Git\\Time-Series-Library\\exp\\exp_long_term_forecasting.py\", line 83, in train\n",
      "    train_data, train_loader = self._get_data(flag='train')\n",
      "                               ^^^^^^^^^^^^^^^^^^^^^^^^^^^^\n",
      "  File \"c:\\Git\\Time-Series-Library\\exp\\exp_long_term_forecasting.py\", line 31, in _get_data\n",
      "    data_set, data_loader = data_provider(self.args, flag)\n",
      "                            ^^^^^^^^^^^^^^^^^^^^^^^^^^^^^^\n",
      "  File \"c:\\Git\\Time-Series-Library\\data_provider\\data_factory.py\", line 70, in data_provider\n",
      "    data_set = Data(\n",
      "               ^^^^^\n",
      "  File \"c:\\Git\\Time-Series-Library\\data_provider\\data_loader.py\", line 1009, in __init__\n",
      "    self.__read_data__()\n",
      "  File \"c:\\Git\\Time-Series-Library\\data_provider\\data_loader.py\", line 1013, in __read_data__\n",
      "    data_raw = pd.read_csv(os.path.join(self.root_path, self.data_path))\n",
      "               ^^^^^^^^^^^^^^^^^^^^^^^^^^^^^^^^^^^^^^^^^^^^^^^^^^^^^^^^^\n",
      "  File \"c:\\Python312\\Lib\\site-packages\\pandas\\io\\parsers\\readers.py\", line 1026, in read_csv\n",
      "    return _read(filepath_or_buffer, kwds)\n",
      "           ^^^^^^^^^^^^^^^^^^^^^^^^^^^^^^^\n",
      "  File \"c:\\Python312\\Lib\\site-packages\\pandas\\io\\parsers\\readers.py\", line 620, in _read\n",
      "    parser = TextFileReader(filepath_or_buffer, **kwds)\n",
      "             ^^^^^^^^^^^^^^^^^^^^^^^^^^^^^^^^^^^^^^^^^^\n",
      "  File \"c:\\Python312\\Lib\\site-packages\\pandas\\io\\parsers\\readers.py\", line 1620, in __init__\n",
      "    self._engine = self._make_engine(f, self.engine)\n",
      "                   ^^^^^^^^^^^^^^^^^^^^^^^^^^^^^^^^^\n",
      "  File \"c:\\Python312\\Lib\\site-packages\\pandas\\io\\parsers\\readers.py\", line 1880, in _make_engine\n",
      "    self.handles = get_handle(\n",
      "                   ^^^^^^^^^^^\n",
      "  File \"c:\\Python312\\Lib\\site-packages\\pandas\\io\\common.py\", line 873, in get_handle\n",
      "    handle = open(\n",
      "             ^^^^^\n",
      "FileNotFoundError: [Errno 2] No such file or directory: './GOLD_2022_2023_BID_ACTIVE.csv'\n",
      "\n"
     ]
    },
    {
     "name": "stdout",
     "output_type": "stream",
     "text": [
      "Notebook execution 3 succeeded in 00:00:07.\n"
     ]
    },
    {
     "data": {
      "application/vnd.jupyter.widget-view+json": {
       "model_id": "ea34454ac5a9498eb9474d50fb6caa6b",
       "version_major": 2,
       "version_minor": 0
      },
      "text/plain": [
       "Executing:   0%|          | 0/10 [00:00<?, ?cell/s]"
      ]
     },
     "metadata": {},
     "output_type": "display_data"
    },
    {
     "name": "stderr",
     "output_type": "stream",
     "text": [
      "Traceback (most recent call last):\n",
      "  File \"c:\\Git\\Time-Series-Library\\run.py\", line 189, in <module>\n",
      "    exp.train(setting)\n",
      "  File \"c:\\Git\\Time-Series-Library\\exp\\exp_long_term_forecasting.py\", line 83, in train\n",
      "    train_data, train_loader = self._get_data(flag='train')\n",
      "                               ^^^^^^^^^^^^^^^^^^^^^^^^^^^^\n",
      "  File \"c:\\Git\\Time-Series-Library\\exp\\exp_long_term_forecasting.py\", line 31, in _get_data\n",
      "    data_set, data_loader = data_provider(self.args, flag)\n",
      "                            ^^^^^^^^^^^^^^^^^^^^^^^^^^^^^^\n",
      "  File \"c:\\Git\\Time-Series-Library\\data_provider\\data_factory.py\", line 70, in data_provider\n",
      "    data_set = Data(\n",
      "               ^^^^^\n",
      "  File \"c:\\Git\\Time-Series-Library\\data_provider\\data_loader.py\", line 1009, in __init__\n",
      "    self.__read_data__()\n",
      "  File \"c:\\Git\\Time-Series-Library\\data_provider\\data_loader.py\", line 1013, in __read_data__\n",
      "    data_raw = pd.read_csv(os.path.join(self.root_path, self.data_path))\n",
      "               ^^^^^^^^^^^^^^^^^^^^^^^^^^^^^^^^^^^^^^^^^^^^^^^^^^^^^^^^^\n",
      "  File \"c:\\Python312\\Lib\\site-packages\\pandas\\io\\parsers\\readers.py\", line 1026, in read_csv\n",
      "    return _read(filepath_or_buffer, kwds)\n",
      "           ^^^^^^^^^^^^^^^^^^^^^^^^^^^^^^^\n",
      "  File \"c:\\Python312\\Lib\\site-packages\\pandas\\io\\parsers\\readers.py\", line 620, in _read\n",
      "    parser = TextFileReader(filepath_or_buffer, **kwds)\n",
      "             ^^^^^^^^^^^^^^^^^^^^^^^^^^^^^^^^^^^^^^^^^^\n",
      "  File \"c:\\Python312\\Lib\\site-packages\\pandas\\io\\parsers\\readers.py\", line 1620, in __init__\n",
      "    self._engine = self._make_engine(f, self.engine)\n",
      "                   ^^^^^^^^^^^^^^^^^^^^^^^^^^^^^^^^^\n",
      "  File \"c:\\Python312\\Lib\\site-packages\\pandas\\io\\parsers\\readers.py\", line 1880, in _make_engine\n",
      "    self.handles = get_handle(\n",
      "                   ^^^^^^^^^^^\n",
      "  File \"c:\\Python312\\Lib\\site-packages\\pandas\\io\\common.py\", line 873, in get_handle\n",
      "    handle = open(\n",
      "             ^^^^^\n",
      "FileNotFoundError: [Errno 2] No such file or directory: './GOLD_2022_2023_BID_ACTIVE.csv'\n",
      "\n"
     ]
    },
    {
     "name": "stdout",
     "output_type": "stream",
     "text": [
      "Notebook execution 3 succeeded in 00:00:07.\n"
     ]
    },
    {
     "data": {
      "application/vnd.jupyter.widget-view+json": {
       "model_id": "74279a8e82b146c7b1c40e44dd7623ac",
       "version_major": 2,
       "version_minor": 0
      },
      "text/plain": [
       "Executing:   0%|          | 0/11 [00:00<?, ?cell/s]"
      ]
     },
     "metadata": {},
     "output_type": "display_data"
    },
    {
     "name": "stdout",
     "output_type": "stream",
     "text": [
      "Notebook execution 4 succeeded in 05:10:09.\n"
     ]
    },
    {
     "data": {
      "application/vnd.jupyter.widget-view+json": {
       "model_id": "dec485f9f958479bad79397db9407f39",
       "version_major": 2,
       "version_minor": 0
      },
      "text/plain": [
       "Executing:   0%|          | 0/10 [00:00<?, ?cell/s]"
      ]
     },
     "metadata": {},
     "output_type": "display_data"
    }
   ],
   "source": [
    "# Loop over the parameter sets and run the notebook for each set\n",
    "for i, params in enumerate(parameter_sets):\n",
    "\tfor j, (notebook, path) in enumerate(notebook_set.items()):\n",
    "\t\ttry:\n",
    "\t\t\t# Ensure output folder exists\n",
    "\t\t\tif not os.path.exists(os.path.join(output_path, output_folder, f'output_{i+1}_{notebook}/')):\n",
    "\t\t\t\tos.makedirs(os.path.join(output_path, output_folder, f'output_{i+1}_{notebook}/'))\n",
    "\n",
    "\t\t\toutput_name = f'output_{i+1}_{notebook}.ipynb'  # Create a unique output name for each run\n",
    "\t\t\tfull_output_path = os.path.join(output_path, output_folder, f'output_{i+1}_{notebook}/', output_name)\n",
    "\t\t\t\n",
    "\t\t\t# Record the start time\n",
    "\t\t\tnotebook_start_time = time.time()\n",
    "\n",
    "\t\t\tpm.execute_notebook(\n",
    "\t\t\t\tinput_path=path,\n",
    "\t\t\t\toutput_path=full_output_path,\n",
    "\t\t\t\tparameters=params,  # Parameters to apply to the notebook\n",
    "\t\t\t\tlog_output=True,  # Lets us see the output of the notebook from here\n",
    "\t\t\t)\n",
    "\n",
    "\t\t\t# Record the end time\n",
    "\t\t\tnotebook_end_time = time.time()\n",
    "\n",
    "\t\t\t# Calculate the duration\n",
    "\t\t\tnotebook_duration = notebook_end_time - notebook_start_time\n",
    "\t\t\tprint(f\"Notebook execution {i+1} succeeded in {format_time(notebook_duration)}.\")\n",
    "\t\texcept Exception as e:\n",
    "\t\t\tprint(f\"Notebook execution {i+1} failed with error: {e}\")"
   ]
  }
 ],
 "metadata": {
  "kernelspec": {
   "display_name": "Python 3",
   "language": "python",
   "name": "python3"
  },
  "language_info": {
   "codemirror_mode": {
    "name": "ipython",
    "version": 3
   },
   "file_extension": ".py",
   "mimetype": "text/x-python",
   "name": "python",
   "nbconvert_exporter": "python",
   "pygments_lexer": "ipython3",
   "version": "3.12.0"
  }
 },
 "nbformat": 4,
 "nbformat_minor": 2
}
