{
  "cells": [
    {
      "cell_type": "markdown",
      "metadata": {
        "id": "BW0-akOj69OI"
      },
      "source": [
        "# Informer"
      ]
    },
    {
      "cell_type": "markdown",
      "metadata": {
        "id": "jT0gI3B6F4K2"
      },
      "source": [
        "## Environment Setup"
      ]
    },
    {
      "cell_type": "code",
      "execution_count": 2,
      "metadata": {
        "tags": [
          "parameters"
        ]
      },
      "outputs": [],
      "source": [
        "epochs = 25\n",
        "patience = 3\n",
        "input_len = 50\n",
        "label_len = 25\n",
        "output_len = 50\n",
        "features = 'T'\n",
        "target = 'OPEN'\n",
        "loss = 'MSE'\n",
        "data_file = 'EURUSD-short.txt'\n",
        "data = 'eurusd'\n",
        "name = 'EurUsd'\n",
        "CUDA_DEBUG = False"
      ]
    },
    {
      "cell_type": "markdown",
      "metadata": {
        "id": "oVIUVpZ3FCrh"
      },
      "source": [
        "### Mount Drive Data"
      ]
    },
    {
      "cell_type": "code",
      "execution_count": 3,
      "metadata": {
        "colab": {
          "base_uri": "https://localhost:8080/"
        },
        "id": "IHFRN5DzFErB",
        "outputId": "09515aaa-61ee-40eb-a628-0a5ded08073a"
      },
      "outputs": [
        {
          "name": "stdout",
          "output_type": "stream",
          "text": [
            "Google Colab environment not detected, running locally.\n"
          ]
        }
      ],
      "source": [
        "INSTALL_DEPENDENCIES = False\n",
        "USING_COLAB = False\n",
        "try:\n",
        "    from google.colab import drive\n",
        "    drive.mount('/content/drive')\n",
        "    USING_COLAB = True\n",
        "    INSTALL_DEPENDENCIES = True\n",
        "except ModuleNotFoundError:\n",
        "    print(\"Google Colab environment not detected, running locally.\")"
      ]
    },
    {
      "cell_type": "markdown",
      "metadata": {
        "id": "silDE2Qh7BkY"
      },
      "source": [
        "### Clone Time-Series-Library"
      ]
    },
    {
      "cell_type": "code",
      "execution_count": 4,
      "metadata": {
        "colab": {
          "base_uri": "https://localhost:8080/"
        },
        "id": "GTBWxlFk6Ksa",
        "outputId": "b05dbf75-618a-4c10-866f-0ec491ecd966"
      },
      "outputs": [],
      "source": [
        "if INSTALL_DEPENDENCIES:\n",
        "  if USING_COLAB:\n",
        "    %git clone -b google-colab --single-branch https://github.com/im-keefer/Time-Series-Library.git\n",
        "    %cd Time-Series-Library && pip install -r requirements_colab.txt\n",
        "  else:\n",
        "    %pip install -r requirements.txt"
      ]
    },
    {
      "cell_type": "markdown",
      "metadata": {
        "id": "r94GYuIQLcgE"
      },
      "source": [
        "## Running The Model"
      ]
    },
    {
      "cell_type": "code",
      "execution_count": null,
      "metadata": {},
      "outputs": [],
      "source": [
        "def format_time(seconds):\n",
        "\tmins, secs = divmod(seconds, 60)\n",
        "\thrs, mins = divmod(mins, 60)\n",
        "\treturn f\"{int(hrs):02d}:{int(mins):02d}:{int(secs):02d}\""
      ]
    },
    {
      "cell_type": "code",
      "execution_count": null,
      "metadata": {},
      "outputs": [],
      "source": [
        "import os\n",
        "import time\n",
        "if CUDA_DEBUG:\n",
        "  os.environ['CUDA_LAUNCH_BLOCKING'] = '1'"
      ]
    },
    {
      "cell_type": "code",
      "execution_count": 5,
      "metadata": {
        "colab": {
          "base_uri": "https://localhost:8080/"
        },
        "id": "Sc24K6VALmwc",
        "outputId": "e2dbdb28-ded3-4f4e-dd23-1aa2bd49dcdf"
      },
      "outputs": [
        {
          "name": "stdout",
          "output_type": "stream",
          "text": [
            "True\n",
            "Args in experiment:\n",
            "\u001b[1mBasic Config\u001b[0m\n",
            "  Task Name:          long_term_forecast  Is Training:        1                   \n",
            "  Model ID:           EurUsd_50_50        Model:              Informer            \n",
            "\n",
            "\u001b[1mData Loader\u001b[0m\n",
            "  Data:               eurusd              Root Path:          ./                  \n",
            "  Data Path:          EURUSD-short.txt    Features:           T                   \n",
            "  Target:             OPEN                Freq:               t                   \n",
            "  Checkpoints:        ./checkpoints/      \n",
            "\n",
            "\u001b[1mForecasting Task\u001b[0m\n",
            "  Seq Len:            50                  Label Len:          24                  \n",
            "  Pred Len:           50                  Seasonal Patterns:  Monthly             \n",
            "  Inverse:            1                   \n",
            "\n",
            "\u001b[1mModel Parameters\u001b[0m\n",
            "  Top k:              5                   Num Kernels:        6                   \n",
            "  Enc In:             1                   Dec In:             1                   \n",
            "  C Out:              1                   d model:            512                 \n",
            "  n heads:            8                   e layers:           2                   \n",
            "  d layers:           1                   d FF:               2048                \n",
            "  Moving Avg:         25                  Factor:             3                   \n",
            "  Distil:             1                   Dropout:            0.1                 \n",
            "  Embed:              timeF               Activation:         gelu                \n",
            "  Output Attention:   0                   \n",
            "\n",
            "\u001b[1mRun Parameters\u001b[0m\n",
            "  Num Workers:        10                  Itr:                1                   \n",
            "  Train Epochs:       1                   Batch Size:         32                  \n",
            "  Patience:           3                   Learning Rate:      0.0001              \n",
            "  Des:                'Exp'               Loss:               MSE                 \n",
            "  Lradj:              type1               Use Amp:            0                   \n",
            "\n",
            "\u001b[1mGPU\u001b[0m\n",
            "  Use GPU:            1                   GPU:                0                   \n",
            "  Use Multi GPU:      0                   Devices:            0,1,2,3             \n",
            "\n",
            "\u001b[1mDe-stationary Projector Params\u001b[0m\n",
            "  P Hidden Dims:      128, 128            P Hidden Layers:    2                   \n",
            "\n",
            "Use GPU: cuda:0\n",
            ">>>>>>>start training : long_term_forecast_EurUsd_50_50_Informer_eurusd_ftT_sl50_ll24_pl50_dm512_nh8_el2_dl1_df2048_expand2_dc4_fc3_ebtimeF_dtTrue_'Exp'_0>>>>>>>>>>>>>>>>>>>>>>>>>>\n",
            "Unique Timestamps: 100000, Total Rows: 100000\n",
            "0    1706033220\n",
            "1    1706033280\n",
            "2    1706033340\n",
            "3    1706033400\n",
            "4    1706033460\n",
            "Name: date, dtype: int64\n",
            "Unique Timestamps: 100000, Total Rows: 100000\n",
            "train 69901\n",
            "Unique Timestamps: 100000, Total Rows: 100000\n",
            "0    1706033220\n",
            "1    1706033280\n",
            "2    1706033340\n",
            "3    1706033400\n",
            "4    1706033460\n",
            "Name: date, dtype: int64\n",
            "Unique Timestamps: 100000, Total Rows: 100000\n",
            "val 9951\n",
            "Unique Timestamps: 100000, Total Rows: 100000\n",
            "0    1706033220\n",
            "1    1706033280\n",
            "2    1706033340\n",
            "3    1706033400\n",
            "4    1706033460\n",
            "Name: date, dtype: int64\n",
            "Unique Timestamps: 100000, Total Rows: 100000\n",
            "test 19951\n",
            "\titers: 100, epoch: 1 | loss: 0.0134242\n",
            "\tspeed: 0.5589s/iter; left time: 1165.3725s\n",
            "\titers: 200, epoch: 1 | loss: 0.0072223\n",
            "\tspeed: 0.0417s/iter; left time: 82.8692s\n",
            "\titers: 300, epoch: 1 | loss: 0.0049745\n",
            "\tspeed: 0.0423s/iter; left time: 79.6478s\n",
            "\titers: 400, epoch: 1 | loss: 0.0031762\n",
            "\tspeed: 0.0407s/iter; left time: 72.6711s\n",
            "\titers: 500, epoch: 1 | loss: 0.0043135\n",
            "\tspeed: 0.0440s/iter; left time: 74.1300s\n",
            "\titers: 600, epoch: 1 | loss: 0.0024027\n",
            "\tspeed: 0.0418s/iter; left time: 66.3155s\n",
            "\titers: 700, epoch: 1 | loss: 0.0020618\n",
            "\tspeed: 0.0411s/iter; left time: 60.9915s\n",
            "\titers: 800, epoch: 1 | loss: 0.0050933\n",
            "\tspeed: 0.0405s/iter; left time: 56.1497s\n",
            "\titers: 900, epoch: 1 | loss: 0.0048743\n",
            "\tspeed: 0.0406s/iter; left time: 52.1582s\n",
            "\titers: 1000, epoch: 1 | loss: 0.0019399\n",
            "\tspeed: 0.0405s/iter; left time: 48.0206s\n",
            "\titers: 1100, epoch: 1 | loss: 0.0018717\n",
            "\tspeed: 0.0405s/iter; left time: 43.9315s\n",
            "\titers: 1200, epoch: 1 | loss: 0.0015461\n",
            "\tspeed: 0.0405s/iter; left time: 39.9284s\n",
            "\titers: 1300, epoch: 1 | loss: 0.0012394\n",
            "\tspeed: 0.0407s/iter; left time: 36.0362s\n",
            "\titers: 1400, epoch: 1 | loss: 0.0011546\n",
            "\tspeed: 0.0404s/iter; left time: 31.6967s\n",
            "\titers: 1500, epoch: 1 | loss: 0.0010757\n",
            "\tspeed: 0.0406s/iter; left time: 27.7941s\n",
            "\titers: 1600, epoch: 1 | loss: 0.0013641\n",
            "\tspeed: 0.0405s/iter; left time: 23.6714s\n",
            "\titers: 1700, epoch: 1 | loss: 0.0008630\n",
            "\tspeed: 0.0406s/iter; left time: 19.6848s\n",
            "\titers: 1800, epoch: 1 | loss: 0.0011869\n",
            "\tspeed: 0.0405s/iter; left time: 15.5781s\n",
            "\titers: 1900, epoch: 1 | loss: 0.0008110\n",
            "\tspeed: 0.0406s/iter; left time: 11.5716s\n",
            "\titers: 2000, epoch: 1 | loss: 0.0013859\n",
            "\tspeed: 0.0405s/iter; left time: 7.4983s\n",
            "\titers: 2100, epoch: 1 | loss: 0.0036730\n",
            "\tspeed: 0.0405s/iter; left time: 3.4448s\n",
            "Epoch: 1 cost time: 141.82774877548218\n",
            "Epoch: 1, Steps: 2184 | Train Loss: 0.0046271 Vali Loss: 0.0006605 Test Loss: 0.0023091\n",
            "Validation loss decreased (inf --> 0.000661).  Saving model ...\n",
            "Updating learning rate to 0.0001\n",
            ">>>>>>>testing : long_term_forecast_EurUsd_50_50_Informer_eurusd_ftT_sl50_ll24_pl50_dm512_nh8_el2_dl1_df2048_expand2_dc4_fc3_ebtimeF_dtTrue_'Exp'_0<<<<<<<<<<<<<<<<<<<<<<<<<<<<<<<<<\n",
            "Unique Timestamps: 100000, Total Rows: 100000\n",
            "0    1706033220\n",
            "1    1706033280\n",
            "2    1706033340\n",
            "3    1706033400\n",
            "4    1706033460\n",
            "Name: date, dtype: int64\n",
            "Unique Timestamps: 100000, Total Rows: 100000\n",
            "test 19951\n",
            "test shape: (623, 32, 50, 1) (623, 32, 50, 1)\n",
            "test shape: (19936, 50, 1) (19936, 50, 1)\n",
            "mse:1.8382258986093802e-06, mae:0.0009847020264714956, dtw:-999\n"
          ]
        }
      ],
      "source": [
        "# Record the start time\n",
        "notebook_start_time = time.time()\n",
        "if USING_COLAB:\n",
        "  !export CUDA_VISIBLE_DEVICES=7\n",
        "  !python -u ./Time-Series-Library/run.py \\\n",
        "    --task_name long_term_forecast \\\n",
        "    --is_training 1 \\\n",
        "    --root_path /content/drive/MyDrive/Trading/Data/ \\\n",
        "    --data_path $data_file \\\n",
        "    --model_id {name}_{input_len}_{output_len} \\\n",
        "    --model Informer \\\n",
        "    --data $data \\\n",
        "    --features $features \\\n",
        "    --freq t \\\n",
        "    --train_epochs $epochs \\\n",
        "    --patience $patience \\\n",
        "    --inverse \\\n",
        "    --target $target \\\n",
        "    --seq_len $input_len \\\n",
        "    --label_len 24 \\\n",
        "    --pred_len $output_len \\\n",
        "    --batch_size 64 \\\n",
        "    --loss $loss \\\n",
        "    --e_layers 2 \\\n",
        "    --d_layers 1 \\\n",
        "    --factor 3 \\\n",
        "    --enc_in 8 \\\n",
        "    --dec_in 8 \\\n",
        "    --c_out 8 \\\n",
        "    --des 'Exp' \\\n",
        "    --itr 1\n",
        "else:\n",
        "  !python -u ./run.py \\\n",
        "    --task_name long_term_forecast \\\n",
        "    --is_training 1 \\\n",
        "    --root_path ./ \\\n",
        "    --data_path $data_file \\\n",
        "    --model_id {name}_{input_len}_{output_len} \\\n",
        "    --model Informer \\\n",
        "    --data $data \\\n",
        "    --features $features \\\n",
        "    --freq t \\\n",
        "    --train_epochs $epochs \\\n",
        "    --patience $patience \\\n",
        "    --inverse \\\n",
        "    --target $target \\\n",
        "    --seq_len $input_len \\\n",
        "    --label_len $label_len \\\n",
        "    --pred_len $output_len \\\n",
        "    --batch_size 128 \\\n",
        "    --loss $loss \\\n",
        "    --embed fixed \\\n",
        "    --e_layers 2 \\\n",
        "    --d_layers 1 \\\n",
        "    --factor 3 \\\n",
        "    --enc_in 1 \\\n",
        "    --dec_in 1 \\\n",
        "    --c_out 1 \\\n",
        "    --des 'Exp' \\\n",
        "    --itr 1\n",
        "\n",
        "# Record the end time\n",
        "notebook_end_time = time.time()\n",
        "\n",
        "# Calculate the duration\n",
        "notebook_duration = notebook_end_time - notebook_start_time\n",
        "print(f\"Notebook execution succeeded in {format_time(notebook_duration)}.\")"
      ]
    }
  ],
  "metadata": {
    "accelerator": "GPU",
    "colab": {
      "gpuType": "T4",
      "provenance": []
    },
    "kernelspec": {
      "display_name": "Python 3",
      "name": "python3"
    },
    "language_info": {
      "codemirror_mode": {
        "name": "ipython",
        "version": 3
      },
      "file_extension": ".py",
      "mimetype": "text/x-python",
      "name": "python",
      "nbconvert_exporter": "python",
      "pygments_lexer": "ipython3",
      "version": "3.12.0"
    }
  },
  "nbformat": 4,
  "nbformat_minor": 0
}
