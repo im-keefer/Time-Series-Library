{
  "cells": [
    {
      "cell_type": "markdown",
      "metadata": {
        "id": "BW0-akOj69OI"
      },
      "source": [
        "# Inverted Transformer"
      ]
    },
    {
      "cell_type": "markdown",
      "metadata": {
        "id": "jT0gI3B6F4K2"
      },
      "source": [
        "## Environment Setup"
      ]
    },
    {
      "cell_type": "code",
      "execution_count": 41,
      "metadata": {
        "tags": [
          "parameters"
        ]
      },
      "outputs": [],
      "source": [
        "epochs = 1\n",
        "input_len = 50\n",
        "output_len = 50\n",
        "data_file = 'EURUSD-short.txt'"
      ]
    },
    {
      "cell_type": "markdown",
      "metadata": {
        "id": "oVIUVpZ3FCrh"
      },
      "source": [
        "### Mount Drive Data"
      ]
    },
    {
      "cell_type": "code",
      "execution_count": 42,
      "metadata": {
        "colab": {
          "base_uri": "https://localhost:8080/"
        },
        "id": "IHFRN5DzFErB",
        "outputId": "09515aaa-61ee-40eb-a628-0a5ded08073a"
      },
      "outputs": [
        {
          "name": "stdout",
          "output_type": "stream",
          "text": [
            "Google Colab environment not detected, running locally.\n"
          ]
        }
      ],
      "source": [
        "INSTALL_DEPENDENCIES = False\n",
        "USING_COLAB = False\n",
        "try:\n",
        "    from google.colab import drive\n",
        "    drive.mount('/content/drive')\n",
        "    USING_COLAB = True\n",
        "    INSTALL_DEPENDENCIES = True\n",
        "except ModuleNotFoundError:\n",
        "    print(\"Google Colab environment not detected, running locally.\")"
      ]
    },
    {
      "cell_type": "markdown",
      "metadata": {
        "id": "silDE2Qh7BkY"
      },
      "source": [
        "### Clone Time-Series-Library"
      ]
    },
    {
      "cell_type": "code",
      "execution_count": 43,
      "metadata": {
        "colab": {
          "base_uri": "https://localhost:8080/"
        },
        "id": "GTBWxlFk6Ksa",
        "outputId": "b05dbf75-618a-4c10-866f-0ec491ecd966"
      },
      "outputs": [],
      "source": [
        "if INSTALL_DEPENDENCIES:\n",
        "  if USING_COLAB:\n",
        "    %git clone -b google-colab --single-branch https://github.com/im-keefer/Time-Series-Library.git\n",
        "    %cd Time-Series-Library && pip install -r requirements_colab.txt\n",
        "  else:\n",
        "    %pip install -r requirements.txt"
      ]
    },
    {
      "cell_type": "markdown",
      "metadata": {
        "id": "r94GYuIQLcgE"
      },
      "source": [
        "## Running The Model"
      ]
    },
    {
      "cell_type": "code",
      "execution_count": 44,
      "metadata": {
        "colab": {
          "base_uri": "https://localhost:8080/"
        },
        "id": "Sc24K6VALmwc",
        "outputId": "e2dbdb28-ded3-4f4e-dd23-1aa2bd49dcdf"
      },
      "outputs": [
        {
          "name": "stdout",
          "output_type": "stream",
          "text": [
            "True\n",
            "Args in experiment:\n",
            "\u001b[1mBasic Config\u001b[0m\n",
            "  Task Name:          long_term_forecast  Is Training:        1                   \n",
            "  Model ID:           EurUsd_50_50        Model:              iTransformer        \n",
            "\n",
            "\u001b[1mData Loader\u001b[0m\n",
            "  Data:               eurusd              Root Path:          ./                  \n",
            "  Data Path:          EURUSD-short.txt    Features:           T                   \n",
            "  Target:             OPEN                Freq:               t                   \n",
            "  Checkpoints:        ./checkpoints/      \n",
            "\n",
            "\u001b[1mForecasting Task\u001b[0m\n",
            "  Seq Len:            50                  Label Len:          24                  \n",
            "  Pred Len:           50                  Seasonal Patterns:  Monthly             \n",
            "  Inverse:            1                   \n",
            "\n",
            "\u001b[1mModel Parameters\u001b[0m\n",
            "  Top k:              5                   Num Kernels:        6                   \n",
            "  Enc In:             1                   Dec In:             1                   \n",
            "  C Out:              1                   d model:            512                 \n",
            "  n heads:            8                   e layers:           2                   \n",
            "  d layers:           1                   d FF:               2048                \n",
            "  Moving Avg:         25                  Factor:             3                   \n",
            "  Distil:             1                   Dropout:            0.1                 \n",
            "  Embed:              fixed               Activation:         gelu                \n",
            "  Output Attention:   0                   \n",
            "\n",
            "\u001b[1mRun Parameters\u001b[0m\n",
            "  Num Workers:        10                  Itr:                1                   \n",
            "  Train Epochs:       1                   Batch Size:         128                 \n",
            "  Patience:           3                   Learning Rate:      0.0001              \n",
            "  Des:                'Exp'               Loss:               MSE                 \n",
            "  Lradj:              type1               Use Amp:            0                   \n",
            "\n",
            "\u001b[1mGPU\u001b[0m\n",
            "  Use GPU:            1                   GPU:                0                   \n",
            "  Use Multi GPU:      0                   Devices:            0,1,2,3             \n",
            "\n",
            "\u001b[1mDe-stationary Projector Params\u001b[0m\n",
            "  P Hidden Dims:      128, 128            P Hidden Layers:    2                   \n",
            "\n",
            "Use GPU: cuda:0\n",
            ">>>>>>>start training : long_term_forecast_EurUsd_50_50_iTransformer_eurusd_ftT_sl50_ll24_pl50_dm512_nh8_el2_dl1_df2048_expand2_dc4_fc3_ebfixed_dtTrue_'Exp'_0>>>>>>>>>>>>>>>>>>>>>>>>>>\n",
            "Unique Timestamps: 100000, Total Rows: 100000\n",
            "0    1706033220\n",
            "1    1706033280\n",
            "2    1706033340\n",
            "3    1706033400\n",
            "4    1706033460\n",
            "Name: date, dtype: int64\n",
            "Unique Timestamps: 100000, Total Rows: 100000\n",
            "             date      minute\n",
            "0      1706033220  1706033220\n",
            "1      1706033280  1706033280\n",
            "2      1706033340  1706033340\n",
            "3      1706033400  1706033400\n",
            "4      1706033460  1706033460\n",
            "...           ...         ...\n",
            "69995  1711990860  1711990860\n",
            "69996  1711990920  1711990920\n",
            "69997  1711990980  1711990980\n",
            "69998  1711991040  1711991040\n",
            "69999  1711991100  1711991100\n",
            "\n",
            "[70000 rows x 2 columns]\n",
            "int64\n",
            "train 69901\n",
            "Unique Timestamps: 100000, Total Rows: 100000\n",
            "0    1706033220\n",
            "1    1706033280\n",
            "2    1706033340\n",
            "3    1706033400\n",
            "4    1706033460\n",
            "Name: date, dtype: int64\n",
            "Unique Timestamps: 100000, Total Rows: 100000\n",
            "             date      minute\n",
            "69950  1711988160  1711988160\n",
            "69951  1711988220  1711988220\n",
            "69952  1711988280  1711988280\n",
            "69953  1711988340  1711988340\n",
            "69954  1711988400  1711988400\n",
            "...           ...         ...\n",
            "79995  1712775120  1712775120\n",
            "79996  1712775180  1712775180\n",
            "79997  1712775240  1712775240\n",
            "79998  1712775300  1712775300\n",
            "79999  1712775360  1712775360\n",
            "\n",
            "[10050 rows x 2 columns]\n",
            "int64\n",
            "val 9951\n",
            "Unique Timestamps: 100000, Total Rows: 100000\n",
            "0    1706033220\n",
            "1    1706033280\n",
            "2    1706033340\n",
            "3    1706033400\n",
            "4    1706033460\n",
            "Name: date, dtype: int64\n",
            "Unique Timestamps: 100000, Total Rows: 100000\n",
            "             date      minute\n",
            "79950  1712772420  1712772420\n",
            "79951  1712772480  1712772480\n",
            "79952  1712772540  1712772540\n",
            "79953  1712772600  1712772600\n",
            "79954  1712772660  1712772660\n",
            "...           ...         ...\n",
            "99995  1714520160  1714520160\n",
            "99996  1714520220  1714520220\n",
            "99997  1714520280  1714520280\n",
            "99998  1714520340  1714520340\n",
            "99999  1714520400  1714520400\n",
            "\n",
            "[20050 rows x 2 columns]\n",
            "int64\n",
            "test 19951\n",
            "\titers: 100, epoch: 1 | loss: 0.0070907\n",
            "\tspeed: 0.5273s/iter; left time: 235.6873s\n",
            "\titers: 200, epoch: 1 | loss: 0.0065893\n",
            "\tspeed: 0.0133s/iter; left time: 4.6150s\n",
            "\titers: 300, epoch: 1 | loss: 0.0069974\n",
            "\tspeed: 0.0133s/iter; left time: 3.2765s\n",
            "\titers: 400, epoch: 1 | loss: 0.0061746\n",
            "\tspeed: 0.0133s/iter; left time: 1.9531s\n",
            "\titers: 500, epoch: 1 | loss: 0.0121985\n",
            "\tspeed: 0.0133s/iter; left time: 0.6262s\n",
            "Epoch: 1 cost time: 59.529746770858765\n",
            "Epoch: 1, Steps: 546 | Train Loss: 0.0092890 Vali Loss: 0.0120822 Test Loss: 0.0103456\n",
            "Validation loss decreased (inf --> 0.012082).  Saving model ...\n",
            "Updating learning rate to 0.0001\n",
            ">>>>>>>testing : long_term_forecast_EurUsd_50_50_iTransformer_eurusd_ftT_sl50_ll24_pl50_dm512_nh8_el2_dl1_df2048_expand2_dc4_fc3_ebfixed_dtTrue_'Exp'_0<<<<<<<<<<<<<<<<<<<<<<<<<<<<<<<<<\n",
            "Unique Timestamps: 100000, Total Rows: 100000\n",
            "0    1706033220\n",
            "1    1706033280\n",
            "2    1706033340\n",
            "3    1706033400\n",
            "4    1706033460\n",
            "Name: date, dtype: int64\n",
            "Unique Timestamps: 100000, Total Rows: 100000\n",
            "             date      minute\n",
            "79950  1712772420  1712772420\n",
            "79951  1712772480  1712772480\n",
            "79952  1712772540  1712772540\n",
            "79953  1712772600  1712772600\n",
            "79954  1712772660  1712772660\n",
            "...           ...         ...\n",
            "99995  1714520160  1714520160\n",
            "99996  1714520220  1714520220\n",
            "99997  1714520280  1714520280\n",
            "99998  1714520340  1714520340\n",
            "99999  1714520400  1714520400\n",
            "\n",
            "[20050 rows x 2 columns]\n",
            "int64\n",
            "test 19951\n",
            "test shape: (155, 128, 50, 1) (155, 128, 50, 1)\n",
            "test shape: (19840, 50, 1) (19840, 50, 1)\n",
            "mse:3.3815138067438966e-07, mae:0.00039023341378197074, dtw:-999\n"
          ]
        }
      ],
      "source": [
        "if USING_COLAB:\n",
        "  !export CUDA_VISIBLE_DEVICES=7\n",
        "  !python -u ./Time-Series-Library/run.py \\\n",
        "    --task_name long_term_forecast \\\n",
        "    --is_training 1 \\\n",
        "    --root_path /content/drive/MyDrive/Trading/Data/ \\\n",
        "    --data_path $data_file \\\n",
        "    --model_id EurUsd_{input_len}_{output_len} \\\n",
        "    --model iTransformer \\\n",
        "    --data eurusd \\\n",
        "    --features T \\\n",
        "    --freq t \\\n",
        "    --train_epochs $epochs \\\n",
        "    --inverse \\\n",
        "    --target OPEN \\\n",
        "    --seq_len $input_len \\\n",
        "    --label_len 24 \\\n",
        "    --pred_len $output_len \\\n",
        "    --batch_size 64 \\\n",
        "    --embed fixed \\\n",
        "    --e_layers 2 \\\n",
        "    --d_layers 1 \\\n",
        "    --factor 3 \\\n",
        "    --enc_in 8 \\\n",
        "    --dec_in 8 \\\n",
        "    --c_out 8 \\\n",
        "    --des 'Exp' \\\n",
        "    --itr 1\n",
        "else:\n",
        "  !python -u ./run.py \\\n",
        "    --task_name long_term_forecast \\\n",
        "    --is_training 1 \\\n",
        "    --root_path ./ \\\n",
        "    --data_path $data_file \\\n",
        "    --model_id EurUsd_{input_len}_{output_len} \\\n",
        "    --model iTransformer \\\n",
        "    --data eurusd \\\n",
        "    --features T \\\n",
        "    --freq t \\\n",
        "    --train_epochs $epochs \\\n",
        "    --inverse \\\n",
        "    --target OPEN \\\n",
        "    --seq_len $input_len \\\n",
        "    --label_len 24 \\\n",
        "    --pred_len $output_len \\\n",
        "    --batch_size 128 \\\n",
        "    --embed fixed \\\n",
        "    --e_layers 2 \\\n",
        "    --d_layers 1 \\\n",
        "    --factor 3 \\\n",
        "    --enc_in 1 \\\n",
        "    --dec_in 1 \\\n",
        "    --c_out 1 \\\n",
        "    --des 'Exp' \\\n",
        "    --itr 1"
      ]
    }
  ],
  "metadata": {
    "accelerator": "GPU",
    "colab": {
      "gpuType": "T4",
      "provenance": []
    },
    "kernelspec": {
      "display_name": "Python 3",
      "name": "python3"
    },
    "language_info": {
      "codemirror_mode": {
        "name": "ipython",
        "version": 3
      },
      "file_extension": ".py",
      "mimetype": "text/x-python",
      "name": "python",
      "nbconvert_exporter": "python",
      "pygments_lexer": "ipython3",
      "version": "3.12.0"
    }
  },
  "nbformat": 4,
  "nbformat_minor": 0
}
